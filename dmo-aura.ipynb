{
 "cells": [
  {
   "cell_type": "code",
   "execution_count": 1,
   "metadata": {},
   "outputs": [
    {
     "name": "stdout",
     "output_type": "stream",
     "text": [
      "Collecting wfdb\n",
      "  Downloading wfdb-3.1.1.tar.gz (113 kB)\n",
      "\u001b[K     |████████████████████████████████| 113 kB 5.3 MB/s eta 0:00:01\n",
      "\u001b[?25hRequirement already satisfied: certifi>=2016.8.2 in /Users/david/opt/anaconda3/lib/python3.8/site-packages (from wfdb) (2020.6.20)\n",
      "Requirement already satisfied: chardet>=3.0.0 in /Users/david/opt/anaconda3/lib/python3.8/site-packages (from wfdb) (3.0.4)\n",
      "Requirement already satisfied: cycler>=0.10.0 in /Users/david/opt/anaconda3/lib/python3.8/site-packages (from wfdb) (0.10.0)\n",
      "Requirement already satisfied: idna>=2.2 in /Users/david/opt/anaconda3/lib/python3.8/site-packages (from wfdb) (2.10)\n",
      "Requirement already satisfied: joblib>=0.11 in /Users/david/opt/anaconda3/lib/python3.8/site-packages (from wfdb) (0.16.0)\n",
      "Requirement already satisfied: kiwisolver>=1.1.0 in /Users/david/opt/anaconda3/lib/python3.8/site-packages (from wfdb) (1.2.0)\n",
      "Requirement already satisfied: matplotlib>=2.0.0 in /Users/david/opt/anaconda3/lib/python3.8/site-packages (from wfdb) (3.2.2)\n",
      "Collecting mne>=0.18.0\n",
      "  Downloading mne-0.21.2-py3-none-any.whl (6.8 MB)\n",
      "\u001b[K     |████████████████████████████████| 6.8 MB 5.5 MB/s eta 0:00:01\n",
      "\u001b[?25hRequirement already satisfied: nose>=1.3.7 in /Users/david/opt/anaconda3/lib/python3.8/site-packages (from wfdb) (1.3.7)\n",
      "Requirement already satisfied: numpy>=1.10.1 in /Users/david/opt/anaconda3/lib/python3.8/site-packages (from wfdb) (1.18.5)\n",
      "Requirement already satisfied: pandas>=0.17.0 in /Users/david/opt/anaconda3/lib/python3.8/site-packages (from wfdb) (1.0.5)\n",
      "Requirement already satisfied: pyparsing>=2.0.4 in /Users/david/opt/anaconda3/lib/python3.8/site-packages (from wfdb) (2.4.7)\n",
      "Requirement already satisfied: python-dateutil>=2.4.2 in /Users/david/opt/anaconda3/lib/python3.8/site-packages (from wfdb) (2.8.1)\n",
      "Requirement already satisfied: pytz>=2018.3 in /Users/david/opt/anaconda3/lib/python3.8/site-packages (from wfdb) (2020.1)\n",
      "Requirement already satisfied: requests>=2.8.1 in /Users/david/opt/anaconda3/lib/python3.8/site-packages (from wfdb) (2.24.0)\n",
      "Requirement already satisfied: scikit-learn>=0.18 in /Users/david/opt/anaconda3/lib/python3.8/site-packages (from wfdb) (0.23.1)\n",
      "Requirement already satisfied: scipy>=0.17.0 in /Users/david/opt/anaconda3/lib/python3.8/site-packages (from wfdb) (1.5.0)\n",
      "Requirement already satisfied: six>=0.9.0 in /Users/david/opt/anaconda3/lib/python3.8/site-packages (from wfdb) (1.15.0)\n",
      "Requirement already satisfied: sklearn>=0.0 in /Users/david/opt/anaconda3/lib/python3.8/site-packages (from wfdb) (0.0)\n",
      "Requirement already satisfied: threadpoolctl>=1.0.0 in /Users/david/opt/anaconda3/lib/python3.8/site-packages (from wfdb) (2.1.0)\n",
      "Requirement already satisfied: urllib3>=1.22 in /Users/david/opt/anaconda3/lib/python3.8/site-packages (from wfdb) (1.25.9)\n",
      "Building wheels for collected packages: wfdb\n",
      "  Building wheel for wfdb (setup.py) ... \u001b[?25ldone\n",
      "\u001b[?25h  Created wheel for wfdb: filename=wfdb-3.1.1-py3-none-any.whl size=117828 sha256=49aa9f28310664206afab198e36f30e356f0a019c9947031c05b0fe1c14dd097\n",
      "  Stored in directory: /Users/david/Library/Caches/pip/wheels/06/23/13/6d77afbf2b7e8d1ceff32d27628582379e01281be9c69b5502\n",
      "Successfully built wfdb\n",
      "Installing collected packages: mne, wfdb\n",
      "Successfully installed mne-0.21.2 wfdb-3.1.1\n"
     ]
    }
   ],
   "source": [
    "!pip install wfdb"
   ]
  },
  {
   "cell_type": "code",
   "execution_count": null,
   "metadata": {},
   "outputs": [],
   "source": []
  }
 ],
 "metadata": {
  "kernelspec": {
   "display_name": "Python 3",
   "language": "python",
   "name": "python3"
  },
  "language_info": {
   "codemirror_mode": {
    "name": "ipython",
    "version": 3
   },
   "file_extension": ".py",
   "mimetype": "text/x-python",
   "name": "python",
   "nbconvert_exporter": "python",
   "pygments_lexer": "ipython3",
   "version": "3.8.3"
  }
 },
 "nbformat": 4,
 "nbformat_minor": 4
}
