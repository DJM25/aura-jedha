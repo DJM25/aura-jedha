{
 "cells": [
  {
   "cell_type": "code",
   "execution_count": 2,
   "metadata": {
    "scrolled": true
   },
   "outputs": [
    {
     "name": "stdout",
     "output_type": "stream",
     "text": [
      "Requirement already satisfied: wfdb in /Library/Frameworks/Python.framework/Versions/3.8/lib/python3.8/site-packages (3.1.1)\n",
      "Requirement already satisfied: joblib>=0.11 in /Library/Frameworks/Python.framework/Versions/3.8/lib/python3.8/site-packages (from wfdb) (0.14.1)\n",
      "Requirement already satisfied: pytz>=2018.3 in /Library/Frameworks/Python.framework/Versions/3.8/lib/python3.8/site-packages (from wfdb) (2020.1)\n",
      "Requirement already satisfied: kiwisolver>=1.1.0 in /Library/Frameworks/Python.framework/Versions/3.8/lib/python3.8/site-packages (from wfdb) (1.2.0)\n",
      "Requirement already satisfied: cycler>=0.10.0 in /Library/Frameworks/Python.framework/Versions/3.8/lib/python3.8/site-packages (from wfdb) (0.10.0)\n",
      "Requirement already satisfied: idna>=2.2 in /Library/Frameworks/Python.framework/Versions/3.8/lib/python3.8/site-packages (from wfdb) (2.9)\n",
      "Requirement already satisfied: python-dateutil>=2.4.2 in /Library/Frameworks/Python.framework/Versions/3.8/lib/python3.8/site-packages (from wfdb) (2.8.1)\n",
      "Requirement already satisfied: scipy>=0.17.0 in /Library/Frameworks/Python.framework/Versions/3.8/lib/python3.8/site-packages (from wfdb) (1.5.3)\n",
      "Requirement already satisfied: scikit-learn>=0.18 in /Library/Frameworks/Python.framework/Versions/3.8/lib/python3.8/site-packages (from wfdb) (0.23.2)\n",
      "Requirement already satisfied: certifi>=2016.8.2 in /Library/Frameworks/Python.framework/Versions/3.8/lib/python3.8/site-packages (from wfdb) (2020.4.5.1)\n",
      "Requirement already satisfied: nose>=1.3.7 in /Library/Frameworks/Python.framework/Versions/3.8/lib/python3.8/site-packages (from wfdb) (1.3.7)\n",
      "Requirement already satisfied: sklearn>=0.0 in /Library/Frameworks/Python.framework/Versions/3.8/lib/python3.8/site-packages (from wfdb) (0.0)\n",
      "Requirement already satisfied: chardet>=3.0.0 in /Library/Frameworks/Python.framework/Versions/3.8/lib/python3.8/site-packages (from wfdb) (3.0.4)\n",
      "Requirement already satisfied: requests>=2.8.1 in /Library/Frameworks/Python.framework/Versions/3.8/lib/python3.8/site-packages (from wfdb) (2.23.0)\n",
      "Requirement already satisfied: pyparsing>=2.0.4 in /Library/Frameworks/Python.framework/Versions/3.8/lib/python3.8/site-packages (from wfdb) (2.4.7)\n",
      "Requirement already satisfied: urllib3>=1.22 in /Library/Frameworks/Python.framework/Versions/3.8/lib/python3.8/site-packages (from wfdb) (1.25.9)\n",
      "Requirement already satisfied: matplotlib>=2.0.0 in /Library/Frameworks/Python.framework/Versions/3.8/lib/python3.8/site-packages (from wfdb) (3.2.1)\n",
      "Requirement already satisfied: numpy>=1.10.1 in /Library/Frameworks/Python.framework/Versions/3.8/lib/python3.8/site-packages (from wfdb) (1.18.4)\n",
      "Requirement already satisfied: pandas>=0.17.0 in /Library/Frameworks/Python.framework/Versions/3.8/lib/python3.8/site-packages (from wfdb) (1.0.3)\n",
      "Requirement already satisfied: threadpoolctl>=1.0.0 in /Library/Frameworks/Python.framework/Versions/3.8/lib/python3.8/site-packages (from wfdb) (2.1.0)\n",
      "Requirement already satisfied: six>=0.9.0 in /Users/henrymacbook/Library/Python/3.8/lib/python/site-packages (from wfdb) (1.14.0)\n",
      "Requirement already satisfied: mne>=0.18.0 in /Library/Frameworks/Python.framework/Versions/3.8/lib/python3.8/site-packages (from wfdb) (0.21.2)\n"
     ]
    }
   ],
   "source": [
    "!python3 -m pip install wfdb"
   ]
  },
  {
   "cell_type": "code",
   "execution_count": 26,
   "metadata": {},
   "outputs": [
    {
     "name": "stdout",
     "output_type": "stream",
     "text": [
      "3.7.6\n"
     ]
    }
   ],
   "source": [
    "from platform import python_version\n",
    "print(python_version())"
   ]
  },
  {
   "cell_type": "code",
   "execution_count": 3,
   "metadata": {},
   "outputs": [
    {
     "name": "stdout",
     "output_type": "stream",
     "text": [
      "Python 2.7.16\r\n"
     ]
    }
   ],
   "source": [
    "!python -V"
   ]
  },
  {
   "cell_type": "code",
   "execution_count": 2,
   "metadata": {},
   "outputs": [],
   "source": [
    "!alias python=python3"
   ]
  },
  {
   "cell_type": "code",
   "execution_count": 2,
   "metadata": {},
   "outputs": [
    {
     "name": "stdout",
     "output_type": "stream",
     "text": [
      "3.7.9 (default, Aug 31 2020, 07:22:35) \n",
      "[Clang 10.0.0 ]\n"
     ]
    }
   ],
   "source": [
    "import sys\n",
    "print(sys.version)"
   ]
  },
  {
   "cell_type": "code",
   "execution_count": 1,
   "metadata": {},
   "outputs": [],
   "source": [
    "import pandas as pd\n",
    "import numpy as np\n",
    "import seaborn as sns\n",
    "import wfdb"
   ]
  },
  {
   "cell_type": "code",
   "execution_count": 3,
   "metadata": {
    "scrolled": true
   },
   "outputs": [],
   "source": [
    "record = wfdb.rdrecord(\"../brno-university-of-technology-ecg-quality-database-but-qdb-1.0.0/100001/100001_ACC\")\n"
   ]
  },
  {
   "cell_type": "code",
   "execution_count": 4,
   "metadata": {
    "scrolled": true
   },
   "outputs": [
    {
     "data": {
      "text/plain": [
       "array([[ 3743,  2369, -2289],\n",
       "       [ 3318,  2083, -2289],\n",
       "       [ 3318,  2083, -2289],\n",
       "       ...,\n",
       "       [ 3743,  1250,  3963],\n",
       "       [ 3743,  1821,  3963],\n",
       "       [ 3743,  1821,  3963]])"
      ]
     },
     "execution_count": 4,
     "metadata": {},
     "output_type": "execute_result"
    }
   ],
   "source": [
    "record.adc()"
   ]
  },
  {
   "cell_type": "code",
   "execution_count": 5,
   "metadata": {},
   "outputs": [
    {
     "data": {
      "text/plain": [
       "(8708700, 3)"
      ]
     },
     "execution_count": 5,
     "metadata": {},
     "output_type": "execute_result"
    }
   ],
   "source": [
    "record.adc().shape"
   ]
  },
  {
   "cell_type": "code",
   "execution_count": 24,
   "metadata": {},
   "outputs": [
    {
     "name": "stderr",
     "output_type": "stream",
     "text": [
      "/Users/henrymacbook/opt/anaconda3/lib/python3.7/site-packages/seaborn/distributions.py:2551: FutureWarning: `distplot` is a deprecated function and will be removed in a future version. Please adapt your code to use either `displot` (a figure-level function with similar flexibility) or `histplot` (an axes-level function for histograms).\n",
      "  warnings.warn(msg, FutureWarning)\n"
     ]
    },
    {
     "data": {
      "text/plain": [
       "<AxesSubplot:ylabel='Density'>"
      ]
     },
     "execution_count": 24,
     "metadata": {},
     "output_type": "execute_result"
    },
    {
     "data": {
      "image/png": "[encoded data removed]",
      "text/plain": [
       "<Figure size 432x288 with 1 Axes>"
      ]
     },
     "metadata": {
      "needs_background": "light"
     },
     "output_type": "display_data"
    }
   ],
   "source": [
    "sns.distplot(record.adc())"
   ]
  },
  {
   "cell_type": "code",
   "execution_count": 11,
   "metadata": {},
   "outputs": [
    {
     "data": {
      "text/html": [
       "<div>\n",
       "<style scoped>\n",
       "    .dataframe tbody tr th:only-of-type {\n",
       "        vertical-align: middle;\n",
       "    }\n",
       "\n",
       "    .dataframe tbody tr th {\n",
       "        vertical-align: top;\n",
       "    }\n",
       "\n",
       "    .dataframe thead th {\n",
       "        text-align: right;\n",
       "    }\n",
       "</style>\n",
       "<table border=\"1\" class=\"dataframe\">\n",
       "  <thead>\n",
       "    <tr style=\"text-align: right;\">\n",
       "      <th></th>\n",
       "      <th>1</th>\n",
       "      <th>198867</th>\n",
       "      <th>2</th>\n",
       "      <th>1.1</th>\n",
       "      <th>19525</th>\n",
       "      <th>1.2</th>\n",
       "      <th>1.3</th>\n",
       "      <th>7047</th>\n",
       "      <th>2.1</th>\n",
       "      <th>1.4</th>\n",
       "      <th>7047.1</th>\n",
       "      <th>2.2</th>\n",
       "    </tr>\n",
       "  </thead>\n",
       "  <tbody>\n",
       "    <tr>\n",
       "      <th>0</th>\n",
       "      <td>198868.0</td>\n",
       "      <td>320282.0</td>\n",
       "      <td>1.0</td>\n",
       "      <td>19526.0</td>\n",
       "      <td>28694.0</td>\n",
       "      <td>2.0</td>\n",
       "      <td>7048</td>\n",
       "      <td>17209</td>\n",
       "      <td>1</td>\n",
       "      <td>7048.0</td>\n",
       "      <td>17209.0</td>\n",
       "      <td>1.0</td>\n",
       "    </tr>\n",
       "    <tr>\n",
       "      <th>1</th>\n",
       "      <td>320283.0</td>\n",
       "      <td>373109.0</td>\n",
       "      <td>2.0</td>\n",
       "      <td>28695.0</td>\n",
       "      <td>32739.0</td>\n",
       "      <td>1.0</td>\n",
       "      <td>17210</td>\n",
       "      <td>28390</td>\n",
       "      <td>2</td>\n",
       "      <td>17210.0</td>\n",
       "      <td>28694.0</td>\n",
       "      <td>2.0</td>\n",
       "    </tr>\n",
       "    <tr>\n",
       "      <th>2</th>\n",
       "      <td>373110.0</td>\n",
       "      <td>2197974.0</td>\n",
       "      <td>1.0</td>\n",
       "      <td>32740.0</td>\n",
       "      <td>96699.0</td>\n",
       "      <td>2.0</td>\n",
       "      <td>28391</td>\n",
       "      <td>32653</td>\n",
       "      <td>1</td>\n",
       "      <td>28695.0</td>\n",
       "      <td>32653.0</td>\n",
       "      <td>1.0</td>\n",
       "    </tr>\n",
       "    <tr>\n",
       "      <th>3</th>\n",
       "      <td>2197975.0</td>\n",
       "      <td>2582746.0</td>\n",
       "      <td>2.0</td>\n",
       "      <td>96700.0</td>\n",
       "      <td>110564.0</td>\n",
       "      <td>1.0</td>\n",
       "      <td>32654</td>\n",
       "      <td>71061</td>\n",
       "      <td>2</td>\n",
       "      <td>32654.0</td>\n",
       "      <td>112474.0</td>\n",
       "      <td>2.0</td>\n",
       "    </tr>\n",
       "    <tr>\n",
       "      <th>4</th>\n",
       "      <td>2582747.0</td>\n",
       "      <td>2782616.0</td>\n",
       "      <td>1.0</td>\n",
       "      <td>110565.0</td>\n",
       "      <td>112474.0</td>\n",
       "      <td>2.0</td>\n",
       "      <td>71062</td>\n",
       "      <td>72663</td>\n",
       "      <td>3</td>\n",
       "      <td>112475.0</td>\n",
       "      <td>174872.0</td>\n",
       "      <td>1.0</td>\n",
       "    </tr>\n",
       "  </tbody>\n",
       "</table>\n",
       "</div>"
      ],
      "text/plain": [
       "           1     198867    2       1.1     19525  1.2    1.3   7047  2.1  \\\n",
       "0   198868.0   320282.0  1.0   19526.0   28694.0  2.0   7048  17209    1   \n",
       "1   320283.0   373109.0  2.0   28695.0   32739.0  1.0  17210  28390    2   \n",
       "2   373110.0  2197974.0  1.0   32740.0   96699.0  2.0  28391  32653    1   \n",
       "3  2197975.0  2582746.0  2.0   96700.0  110564.0  1.0  32654  71061    2   \n",
       "4  2582747.0  2782616.0  1.0  110565.0  112474.0  2.0  71062  72663    3   \n",
       "\n",
       "        1.4    7047.1  2.2  \n",
       "0    7048.0   17209.0  1.0  \n",
       "1   17210.0   28694.0  2.0  \n",
       "2   28695.0   32653.0  1.0  \n",
       "3   32654.0  112474.0  2.0  \n",
       "4  112475.0  174872.0  1.0  "
      ]
     },
     "execution_count": 11,
     "metadata": {},
     "output_type": "execute_result"
    }
   ],
   "source": [
    "df = pd.read_csv(\"brno-university-of-technology-ecg-quality-database-but-qdb-1.0.0/100001/100001_ANN.csv\")\n",
    "df.head()"
   ]
  },
  {
   "cell_type": "code",
   "execution_count": 10,
   "metadata": {},
   "outputs": [
    {
     "name": "stdout",
     "output_type": "stream",
     "text": [
      "/Users/henrymacbook/code/_datascience/10_projet/_projet Aura\r\n"
     ]
    }
   ],
   "source": [
    "!pwd"
   ]
  },
  {
   "cell_type": "code",
   "execution_count": null,
   "metadata": {},
   "outputs": [],
   "source": []
  }
 ],
 "metadata": {
  "kernelspec": {
   "display_name": "Python 3",
   "language": "python",
   "name": "python3"
  },
  "language_info": {
   "codemirror_mode": {
    "name": "ipython",
    "version": 3
   },
   "file_extension": ".py",
   "mimetype": "text/x-python",
   "name": "python",
   "nbconvert_exporter": "python",
   "pygments_lexer": "ipython3",
   "version": "3.7.9"
  }
 },
 "nbformat": 4,
 "nbformat_minor": 4
}
