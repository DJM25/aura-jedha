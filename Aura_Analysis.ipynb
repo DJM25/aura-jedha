{
 "cells": [
  {
   "cell_type": "code",
   "execution_count": 1,
   "metadata": {},
   "outputs": [
    {
     "name": "stdout",
     "output_type": "stream",
     "text": [
      "Collecting wfdb\n",
      "  Downloading wfdb-3.1.1.tar.gz (113 kB)\n",
      "Requirement already satisfied: certifi>=2016.8.2 in c:\\users\\maxen\\anaconda3\\lib\\site-packages (from wfdb) (2020.6.20)\n",
      "Requirement already satisfied: chardet>=3.0.0 in c:\\users\\maxen\\anaconda3\\lib\\site-packages (from wfdb) (3.0.4)\n",
      "Requirement already satisfied: cycler>=0.10.0 in c:\\users\\maxen\\anaconda3\\lib\\site-packages (from wfdb) (0.10.0)\n",
      "Requirement already satisfied: idna>=2.2 in c:\\users\\maxen\\anaconda3\\lib\\site-packages (from wfdb) (2.10)\n",
      "Requirement already satisfied: joblib>=0.11 in c:\\users\\maxen\\anaconda3\\lib\\site-packages (from wfdb) (0.16.0)\n",
      "Requirement already satisfied: kiwisolver>=1.1.0 in c:\\users\\maxen\\anaconda3\\lib\\site-packages (from wfdb) (1.2.0)\n",
      "Requirement already satisfied: matplotlib>=2.0.0 in c:\\users\\maxen\\anaconda3\\lib\\site-packages (from wfdb) (3.2.2)\n",
      "Collecting mne>=0.18.0\n",
      "  Downloading mne-0.21.2-py3-none-any.whl (6.8 MB)\n",
      "Requirement already satisfied: nose>=1.3.7 in c:\\users\\maxen\\anaconda3\\lib\\site-packages (from wfdb) (1.3.7)\n",
      "Requirement already satisfied: numpy>=1.10.1 in c:\\users\\maxen\\anaconda3\\lib\\site-packages (from wfdb) (1.18.5)\n",
      "Requirement already satisfied: pandas>=0.17.0 in c:\\users\\maxen\\anaconda3\\lib\\site-packages (from wfdb) (1.0.5)\n",
      "Requirement already satisfied: pyparsing>=2.0.4 in c:\\users\\maxen\\anaconda3\\lib\\site-packages (from wfdb) (2.4.7)\n",
      "Requirement already satisfied: python-dateutil>=2.4.2 in c:\\users\\maxen\\anaconda3\\lib\\site-packages (from wfdb) (2.8.1)\n",
      "Requirement already satisfied: pytz>=2018.3 in c:\\users\\maxen\\anaconda3\\lib\\site-packages (from wfdb) (2020.1)\n",
      "Requirement already satisfied: requests>=2.8.1 in c:\\users\\maxen\\anaconda3\\lib\\site-packages (from wfdb) (2.24.0)\n",
      "Requirement already satisfied: scikit-learn>=0.18 in c:\\users\\maxen\\anaconda3\\lib\\site-packages (from wfdb) (0.23.1)\n",
      "Requirement already satisfied: scipy>=0.17.0 in c:\\users\\maxen\\anaconda3\\lib\\site-packages (from wfdb) (1.5.0)\n",
      "Requirement already satisfied: six>=0.9.0 in c:\\users\\maxen\\anaconda3\\lib\\site-packages (from wfdb) (1.15.0)\n",
      "Collecting sklearn>=0.0\n",
      "  Downloading sklearn-0.0.tar.gz (1.1 kB)\n",
      "Requirement already satisfied: threadpoolctl>=1.0.0 in c:\\users\\maxen\\anaconda3\\lib\\site-packages (from wfdb) (2.1.0)\n",
      "Requirement already satisfied: urllib3>=1.22 in c:\\users\\maxen\\anaconda3\\lib\\site-packages (from wfdb) (1.25.9)\n",
      "Building wheels for collected packages: wfdb, sklearn\n",
      "  Building wheel for wfdb (setup.py): started\n",
      "  Building wheel for wfdb (setup.py): finished with status 'done'\n",
      "  Created wheel for wfdb: filename=wfdb-3.1.1-py3-none-any.whl size=117834 sha256=aa5c28013883f549a16496704660722bd3f6752529d4f4e5bfedac49a8e850fa\n",
      "  Stored in directory: c:\\users\\maxen\\appdata\\local\\pip\\cache\\wheels\\06\\23\\13\\6d77afbf2b7e8d1ceff32d27628582379e01281be9c69b5502\n",
      "  Building wheel for sklearn (setup.py): started\n",
      "  Building wheel for sklearn (setup.py): finished with status 'done'\n",
      "  Created wheel for sklearn: filename=sklearn-0.0-py2.py3-none-any.whl size=1320 sha256=1fac236b271535e792f3d51bd36ec8686ea8650e82a5376bfe3796a55a0e0276\n",
      "  Stored in directory: c:\\users\\maxen\\appdata\\local\\pip\\cache\\wheels\\22\\0b\\40\\fd3f795caaa1fb4c6cb738bc1f56100be1e57da95849bfc897\n",
      "Successfully built wfdb sklearn\n",
      "Installing collected packages: mne, sklearn, wfdb\n",
      "Successfully installed mne-0.21.2 sklearn-0.0 wfdb-3.1.1\n"
     ]
    }
   ],
   "source": [
    "!pip install wfdb"
   ]
  },
  {
   "cell_type": "code",
   "execution_count": 2,
   "metadata": {},
   "outputs": [],
   "source": [
    "import wfdb"
   ]
  },
  {
   "cell_type": "code",
   "execution_count": 6,
   "metadata": {},
   "outputs": [
    {
     "ename": "SyntaxError",
     "evalue": "(unicode error) 'unicodeescape' codec can't decode bytes in position 2-3: truncated \\UXXXXXXXX escape (<ipython-input-6-291583497d2c>, line 1)",
     "output_type": "error",
     "traceback": [
      "\u001b[1;36m  File \u001b[1;32m\"<ipython-input-6-291583497d2c>\"\u001b[1;36m, line \u001b[1;32m1\u001b[0m\n\u001b[1;33m    record = wfdb.rdrecord(\"C:\\Users\\maxen\\OneDrive\\Documents\\Jedha Bootcamp\\Fullstack\\11. Projet Final - Demoday\\brno-university-of-technology-ecg-quality-database-but-qdb-1.0.0.zip\\brno-university-of-technology-ecg-quality-database-but-qdb-1.0.0\\100001\", sampfrom=800)\u001b[0m\n\u001b[1;37m                           ^\u001b[0m\n\u001b[1;31mSyntaxError\u001b[0m\u001b[1;31m:\u001b[0m (unicode error) 'unicodeescape' codec can't decode bytes in position 2-3: truncated \\UXXXXXXXX escape\n"
     ]
    }
   ],
   "source": [
    "record = wfdb.rdrecord(\"C:\\Users\\maxen\\OneDrive\\Documents\\Jedha Bootcamp\\Fullstack\\11. Projet Final - Demoday\\brno-university-of-technology-ecg-quality-database-but-qdb-1.0.0.zip\\brno-university-of-technology-ecg-quality-database-but-qdb-1.0.0\\100001\", sampfrom=800)"
   ]
  },
  {
   "cell_type": "code",
   "execution_count": null,
   "metadata": {},
   "outputs": [],
   "source": [
    "record.adc()"
   ]
  }
 ],
 "metadata": {
  "kernelspec": {
   "display_name": "Python 3",
   "language": "python",
   "name": "python3"
  },
  "language_info": {
   "codemirror_mode": {
    "name": "ipython",
    "version": 3
   },
   "file_extension": ".py",
   "mimetype": "text/x-python",
   "name": "python",
   "nbconvert_exporter": "python",
   "pygments_lexer": "ipython3",
   "version": "3.8.3"
  }
 },
 "nbformat": 4,
 "nbformat_minor": 4
}
